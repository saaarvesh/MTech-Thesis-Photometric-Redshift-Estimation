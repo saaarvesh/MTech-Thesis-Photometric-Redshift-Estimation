{
 "cells": [
  {
   "attachments": {},
   "cell_type": "markdown",
   "id": "bf42acd4",
   "metadata": {},
   "source": [
    "### 1. Importing modules"
   ]
  },
  {
   "cell_type": "code",
   "execution_count": 1,
   "id": "1eab605a",
   "metadata": {},
   "outputs": [],
   "source": [
    "import os\n",
    "import time\n",
    "import pandas as pd\n",
    "import numpy as np\n",
    "import matplotlib.pyplot as plt\n",
    "\n",
    "from sympy import *\n",
    "from pysr import PySRRegressor\n",
    "from gplearn.genetic import SymbolicRegressor\n",
    "\n",
    "\n",
    "from sklearn.metrics import mean_squared_error\n",
    "from sklearn.model_selection import train_test_split\n"
   ]
  },
  {
   "attachments": {},
   "cell_type": "markdown",
   "id": "d7c3a426",
   "metadata": {},
   "source": [
    "### 2.Loading dataframe"
   ]
  },
  {
   "cell_type": "code",
   "execution_count": 2,
   "id": "2975e452",
   "metadata": {},
   "outputs": [
    {
     "data": {
      "text/html": [
       "<div>\n",
       "<style scoped>\n",
       "    .dataframe tbody tr th:only-of-type {\n",
       "        vertical-align: middle;\n",
       "    }\n",
       "\n",
       "    .dataframe tbody tr th {\n",
       "        vertical-align: top;\n",
       "    }\n",
       "\n",
       "    .dataframe thead th {\n",
       "        text-align: right;\n",
       "    }\n",
       "</style>\n",
       "<table border=\"1\" class=\"dataframe\">\n",
       "  <thead>\n",
       "    <tr style=\"text-align: right;\">\n",
       "      <th></th>\n",
       "      <th>u</th>\n",
       "      <th>g</th>\n",
       "      <th>r</th>\n",
       "      <th>i</th>\n",
       "      <th>z</th>\n",
       "      <th>u_err</th>\n",
       "      <th>g_err</th>\n",
       "      <th>r_err</th>\n",
       "      <th>i_err</th>\n",
       "      <th>z_err</th>\n",
       "      <th>specz</th>\n",
       "      <th>specz_err</th>\n",
       "      <th>photoz</th>\n",
       "      <th>photoz_err</th>\n",
       "    </tr>\n",
       "  </thead>\n",
       "  <tbody>\n",
       "    <tr>\n",
       "      <th>0</th>\n",
       "      <td>20.05931</td>\n",
       "      <td>17.90802</td>\n",
       "      <td>16.87680</td>\n",
       "      <td>16.41877</td>\n",
       "      <td>16.03087</td>\n",
       "      <td>0.088861</td>\n",
       "      <td>0.008064</td>\n",
       "      <td>0.005648</td>\n",
       "      <td>0.005547</td>\n",
       "      <td>0.013291</td>\n",
       "      <td>0.132936</td>\n",
       "      <td>0.000029</td>\n",
       "      <td>0.116048</td>\n",
       "      <td>0.012696</td>\n",
       "    </tr>\n",
       "    <tr>\n",
       "      <th>1</th>\n",
       "      <td>20.05931</td>\n",
       "      <td>17.90802</td>\n",
       "      <td>16.87680</td>\n",
       "      <td>16.41877</td>\n",
       "      <td>16.03087</td>\n",
       "      <td>0.088861</td>\n",
       "      <td>0.008064</td>\n",
       "      <td>0.005648</td>\n",
       "      <td>0.005547</td>\n",
       "      <td>0.013291</td>\n",
       "      <td>0.132956</td>\n",
       "      <td>0.000026</td>\n",
       "      <td>0.116048</td>\n",
       "      <td>0.012696</td>\n",
       "    </tr>\n",
       "    <tr>\n",
       "      <th>2</th>\n",
       "      <td>18.84740</td>\n",
       "      <td>17.34797</td>\n",
       "      <td>16.55364</td>\n",
       "      <td>16.14608</td>\n",
       "      <td>15.82637</td>\n",
       "      <td>0.067545</td>\n",
       "      <td>0.005925</td>\n",
       "      <td>0.004896</td>\n",
       "      <td>0.005033</td>\n",
       "      <td>0.013492</td>\n",
       "      <td>0.125875</td>\n",
       "      <td>0.000027</td>\n",
       "      <td>0.098719</td>\n",
       "      <td>0.020465</td>\n",
       "    </tr>\n",
       "    <tr>\n",
       "      <th>3</th>\n",
       "      <td>19.40448</td>\n",
       "      <td>18.01141</td>\n",
       "      <td>17.18348</td>\n",
       "      <td>16.71742</td>\n",
       "      <td>16.41500</td>\n",
       "      <td>0.053903</td>\n",
       "      <td>0.008701</td>\n",
       "      <td>0.006848</td>\n",
       "      <td>0.006764</td>\n",
       "      <td>0.018429</td>\n",
       "      <td>0.080967</td>\n",
       "      <td>0.000011</td>\n",
       "      <td>0.126209</td>\n",
       "      <td>0.025524</td>\n",
       "    </tr>\n",
       "    <tr>\n",
       "      <th>4</th>\n",
       "      <td>20.30011</td>\n",
       "      <td>18.28357</td>\n",
       "      <td>17.29899</td>\n",
       "      <td>16.86755</td>\n",
       "      <td>16.51351</td>\n",
       "      <td>0.080408</td>\n",
       "      <td>0.008575</td>\n",
       "      <td>0.006134</td>\n",
       "      <td>0.006083</td>\n",
       "      <td>0.014749</td>\n",
       "      <td>0.125531</td>\n",
       "      <td>0.000026</td>\n",
       "      <td>0.112964</td>\n",
       "      <td>0.010141</td>\n",
       "    </tr>\n",
       "  </tbody>\n",
       "</table>\n",
       "</div>"
      ],
      "text/plain": [
       "          u         g         r         i         z     u_err     g_err  \\\n",
       "0  20.05931  17.90802  16.87680  16.41877  16.03087  0.088861  0.008064   \n",
       "1  20.05931  17.90802  16.87680  16.41877  16.03087  0.088861  0.008064   \n",
       "2  18.84740  17.34797  16.55364  16.14608  15.82637  0.067545  0.005925   \n",
       "3  19.40448  18.01141  17.18348  16.71742  16.41500  0.053903  0.008701   \n",
       "4  20.30011  18.28357  17.29899  16.86755  16.51351  0.080408  0.008575   \n",
       "\n",
       "      r_err     i_err     z_err     specz  specz_err    photoz  photoz_err  \n",
       "0  0.005648  0.005547  0.013291  0.132936   0.000029  0.116048    0.012696  \n",
       "1  0.005648  0.005547  0.013291  0.132956   0.000026  0.116048    0.012696  \n",
       "2  0.004896  0.005033  0.013492  0.125875   0.000027  0.098719    0.020465  \n",
       "3  0.006848  0.006764  0.018429  0.080967   0.000011  0.126209    0.025524  \n",
       "4  0.006134  0.006083  0.014749  0.125531   0.000026  0.112964    0.010141  "
      ]
     },
     "execution_count": 2,
     "metadata": {},
     "output_type": "execute_result"
    }
   ],
   "source": [
    "df = pd.read_csv('data.csv',sep=',')\n",
    "df.head()"
   ]
  },
  {
   "cell_type": "code",
   "execution_count": 3,
   "id": "5d5e215e",
   "metadata": {},
   "outputs": [],
   "source": [
    "df = df\n",
    "df = df[df['u'] > 0]\n",
    "df = df[df['g'] > 0]\n",
    "df = df[df['r'] > 0]\n",
    "df = df[df['i'] > 0]\n",
    "df = df[df['z'] > 0]\n",
    "error_cut = 0.3  \n",
    "df = df[df['u_err'] < error_cut]\n",
    "df = df[df['g_err'] < error_cut]\n",
    "df = df[df['r_err'] < error_cut]\n",
    "df = df[df['i_err'] < error_cut]\n",
    "df = df[df['z_err'] < error_cut]\n",
    "df = df[df['specz_err'] < 0.01]\n",
    "df = df[(df['specz'] > 0) & (df['specz'] < 1.)]"
   ]
  },
  {
   "cell_type": "code",
   "execution_count": 4,
   "id": "a7f9f400",
   "metadata": {},
   "outputs": [
    {
     "data": {
      "text/html": [
       "<div>\n",
       "<style scoped>\n",
       "    .dataframe tbody tr th:only-of-type {\n",
       "        vertical-align: middle;\n",
       "    }\n",
       "\n",
       "    .dataframe tbody tr th {\n",
       "        vertical-align: top;\n",
       "    }\n",
       "\n",
       "    .dataframe thead th {\n",
       "        text-align: right;\n",
       "    }\n",
       "</style>\n",
       "<table border=\"1\" class=\"dataframe\">\n",
       "  <thead>\n",
       "    <tr style=\"text-align: right;\">\n",
       "      <th></th>\n",
       "      <th>u</th>\n",
       "      <th>g</th>\n",
       "      <th>r</th>\n",
       "      <th>i</th>\n",
       "      <th>z</th>\n",
       "      <th>u_err</th>\n",
       "      <th>g_err</th>\n",
       "      <th>r_err</th>\n",
       "      <th>i_err</th>\n",
       "      <th>z_err</th>\n",
       "      <th>specz</th>\n",
       "      <th>specz_err</th>\n",
       "      <th>photoz</th>\n",
       "      <th>photoz_err</th>\n",
       "    </tr>\n",
       "  </thead>\n",
       "  <tbody>\n",
       "    <tr>\n",
       "      <th>count</th>\n",
       "      <td>809281.000000</td>\n",
       "      <td>809281.000000</td>\n",
       "      <td>809281.000000</td>\n",
       "      <td>809281.000000</td>\n",
       "      <td>809281.000000</td>\n",
       "      <td>809281.000000</td>\n",
       "      <td>809281.000000</td>\n",
       "      <td>809281.000000</td>\n",
       "      <td>809281.000000</td>\n",
       "      <td>809281.000000</td>\n",
       "      <td>8.092810e+05</td>\n",
       "      <td>809281.000000</td>\n",
       "      <td>809201.000000</td>\n",
       "      <td>809201.000000</td>\n",
       "    </tr>\n",
       "    <tr>\n",
       "      <th>mean</th>\n",
       "      <td>19.711728</td>\n",
       "      <td>18.180565</td>\n",
       "      <td>17.318634</td>\n",
       "      <td>16.898437</td>\n",
       "      <td>16.610383</td>\n",
       "      <td>0.092711</td>\n",
       "      <td>0.014399</td>\n",
       "      <td>0.009755</td>\n",
       "      <td>0.009340</td>\n",
       "      <td>0.023705</td>\n",
       "      <td>1.489404e-01</td>\n",
       "      <td>-0.000085</td>\n",
       "      <td>-11.206295</td>\n",
       "      <td>-11.333416</td>\n",
       "    </tr>\n",
       "    <tr>\n",
       "      <th>std</th>\n",
       "      <td>1.180486</td>\n",
       "      <td>1.238148</td>\n",
       "      <td>1.176157</td>\n",
       "      <td>1.134163</td>\n",
       "      <td>1.139215</td>\n",
       "      <td>0.071077</td>\n",
       "      <td>0.021454</td>\n",
       "      <td>0.013422</td>\n",
       "      <td>0.011407</td>\n",
       "      <td>0.029410</td>\n",
       "      <td>1.328144e-01</td>\n",
       "      <td>0.014536</td>\n",
       "      <td>336.779900</td>\n",
       "      <td>336.775591</td>\n",
       "    </tr>\n",
       "    <tr>\n",
       "      <th>min</th>\n",
       "      <td>12.334680</td>\n",
       "      <td>10.570360</td>\n",
       "      <td>11.014940</td>\n",
       "      <td>10.584090</td>\n",
       "      <td>10.336530</td>\n",
       "      <td>0.002827</td>\n",
       "      <td>0.001499</td>\n",
       "      <td>0.001460</td>\n",
       "      <td>0.000789</td>\n",
       "      <td>0.000474</td>\n",
       "      <td>3.746492e-08</td>\n",
       "      <td>-6.000000</td>\n",
       "      <td>-9999.000000</td>\n",
       "      <td>-9999.000000</td>\n",
       "    </tr>\n",
       "    <tr>\n",
       "      <th>25%</th>\n",
       "      <td>19.000750</td>\n",
       "      <td>17.520230</td>\n",
       "      <td>16.722850</td>\n",
       "      <td>16.318600</td>\n",
       "      <td>16.014040</td>\n",
       "      <td>0.042325</td>\n",
       "      <td>0.006544</td>\n",
       "      <td>0.005025</td>\n",
       "      <td>0.005020</td>\n",
       "      <td>0.011067</td>\n",
       "      <td>7.576388e-02</td>\n",
       "      <td>0.000012</td>\n",
       "      <td>0.079807</td>\n",
       "      <td>0.011601</td>\n",
       "    </tr>\n",
       "    <tr>\n",
       "      <th>50%</th>\n",
       "      <td>19.700840</td>\n",
       "      <td>18.123850</td>\n",
       "      <td>17.300620</td>\n",
       "      <td>16.889230</td>\n",
       "      <td>16.591030</td>\n",
       "      <td>0.068286</td>\n",
       "      <td>0.008925</td>\n",
       "      <td>0.006541</td>\n",
       "      <td>0.006530</td>\n",
       "      <td>0.015502</td>\n",
       "      <td>1.154856e-01</td>\n",
       "      <td>0.000021</td>\n",
       "      <td>0.114195</td>\n",
       "      <td>0.017222</td>\n",
       "    </tr>\n",
       "    <tr>\n",
       "      <th>75%</th>\n",
       "      <td>20.433260</td>\n",
       "      <td>18.645760</td>\n",
       "      <td>17.674230</td>\n",
       "      <td>17.269750</td>\n",
       "      <td>17.006490</td>\n",
       "      <td>0.117212</td>\n",
       "      <td>0.012518</td>\n",
       "      <td>0.008482</td>\n",
       "      <td>0.008631</td>\n",
       "      <td>0.022776</td>\n",
       "      <td>1.694996e-01</td>\n",
       "      <td>0.000032</td>\n",
       "      <td>0.168528</td>\n",
       "      <td>0.023817</td>\n",
       "    </tr>\n",
       "    <tr>\n",
       "      <th>max</th>\n",
       "      <td>32.556140</td>\n",
       "      <td>23.711720</td>\n",
       "      <td>22.923620</td>\n",
       "      <td>31.117750</td>\n",
       "      <td>27.848230</td>\n",
       "      <td>0.299998</td>\n",
       "      <td>0.299957</td>\n",
       "      <td>0.282357</td>\n",
       "      <td>0.291946</td>\n",
       "      <td>0.299918</td>\n",
       "      <td>9.999526e-01</td>\n",
       "      <td>0.009326</td>\n",
       "      <td>0.999571</td>\n",
       "      <td>0.277625</td>\n",
       "    </tr>\n",
       "  </tbody>\n",
       "</table>\n",
       "</div>"
      ],
      "text/plain": [
       "                   u              g              r              i  \\\n",
       "count  809281.000000  809281.000000  809281.000000  809281.000000   \n",
       "mean       19.711728      18.180565      17.318634      16.898437   \n",
       "std         1.180486       1.238148       1.176157       1.134163   \n",
       "min        12.334680      10.570360      11.014940      10.584090   \n",
       "25%        19.000750      17.520230      16.722850      16.318600   \n",
       "50%        19.700840      18.123850      17.300620      16.889230   \n",
       "75%        20.433260      18.645760      17.674230      17.269750   \n",
       "max        32.556140      23.711720      22.923620      31.117750   \n",
       "\n",
       "                   z          u_err          g_err          r_err  \\\n",
       "count  809281.000000  809281.000000  809281.000000  809281.000000   \n",
       "mean       16.610383       0.092711       0.014399       0.009755   \n",
       "std         1.139215       0.071077       0.021454       0.013422   \n",
       "min        10.336530       0.002827       0.001499       0.001460   \n",
       "25%        16.014040       0.042325       0.006544       0.005025   \n",
       "50%        16.591030       0.068286       0.008925       0.006541   \n",
       "75%        17.006490       0.117212       0.012518       0.008482   \n",
       "max        27.848230       0.299998       0.299957       0.282357   \n",
       "\n",
       "               i_err          z_err         specz      specz_err  \\\n",
       "count  809281.000000  809281.000000  8.092810e+05  809281.000000   \n",
       "mean        0.009340       0.023705  1.489404e-01      -0.000085   \n",
       "std         0.011407       0.029410  1.328144e-01       0.014536   \n",
       "min         0.000789       0.000474  3.746492e-08      -6.000000   \n",
       "25%         0.005020       0.011067  7.576388e-02       0.000012   \n",
       "50%         0.006530       0.015502  1.154856e-01       0.000021   \n",
       "75%         0.008631       0.022776  1.694996e-01       0.000032   \n",
       "max         0.291946       0.299918  9.999526e-01       0.009326   \n",
       "\n",
       "              photoz     photoz_err  \n",
       "count  809201.000000  809201.000000  \n",
       "mean      -11.206295     -11.333416  \n",
       "std       336.779900     336.775591  \n",
       "min     -9999.000000   -9999.000000  \n",
       "25%         0.079807       0.011601  \n",
       "50%         0.114195       0.017222  \n",
       "75%         0.168528       0.023817  \n",
       "max         0.999571       0.277625  "
      ]
     },
     "execution_count": 4,
     "metadata": {},
     "output_type": "execute_result"
    }
   ],
   "source": [
    "df.describe()"
   ]
  },
  {
   "attachments": {},
   "cell_type": "markdown",
   "id": "790b8ca0",
   "metadata": {},
   "source": [
    "### 3.Creating train and test data"
   ]
  },
  {
   "cell_type": "code",
   "execution_count": 5,
   "id": "4b8152a4",
   "metadata": {},
   "outputs": [],
   "source": [
    "filename = 'data.csv'\n",
    "\n",
    "df_train, df_test = train_test_split(df, train_size = 0.8, random_state=123)\n",
    "#df_test = df_test[df_test['specz'] > 1.]\n",
    "df_train.to_csv(filename[:-4]+'_train.csv', sep=' ', header=None, index=False)\n",
    "df_test.to_csv(filename[:-4]+'_test.csv', sep=' ', header=None, index=False)"
   ]
  },
  {
   "cell_type": "code",
   "execution_count": 6,
   "id": "86148116",
   "metadata": {},
   "outputs": [
    {
     "data": {
      "text/html": [
       "<div>\n",
       "<style scoped>\n",
       "    .dataframe tbody tr th:only-of-type {\n",
       "        vertical-align: middle;\n",
       "    }\n",
       "\n",
       "    .dataframe tbody tr th {\n",
       "        vertical-align: top;\n",
       "    }\n",
       "\n",
       "    .dataframe thead th {\n",
       "        text-align: right;\n",
       "    }\n",
       "</style>\n",
       "<table border=\"1\" class=\"dataframe\">\n",
       "  <thead>\n",
       "    <tr style=\"text-align: right;\">\n",
       "      <th></th>\n",
       "      <th>u</th>\n",
       "      <th>g</th>\n",
       "      <th>r</th>\n",
       "      <th>i</th>\n",
       "      <th>z</th>\n",
       "      <th>u_err</th>\n",
       "      <th>g_err</th>\n",
       "      <th>r_err</th>\n",
       "      <th>i_err</th>\n",
       "      <th>z_err</th>\n",
       "      <th>specz</th>\n",
       "      <th>specz_err</th>\n",
       "      <th>photoz</th>\n",
       "      <th>photoz_err</th>\n",
       "    </tr>\n",
       "  </thead>\n",
       "  <tbody>\n",
       "    <tr>\n",
       "      <th>225621</th>\n",
       "      <td>20.70552</td>\n",
       "      <td>18.88517</td>\n",
       "      <td>17.67181</td>\n",
       "      <td>17.21974</td>\n",
       "      <td>16.87947</td>\n",
       "      <td>0.124928</td>\n",
       "      <td>0.012979</td>\n",
       "      <td>0.007144</td>\n",
       "      <td>0.006431</td>\n",
       "      <td>0.014508</td>\n",
       "      <td>0.195101</td>\n",
       "      <td>0.000031</td>\n",
       "      <td>0.188042</td>\n",
       "      <td>0.010568</td>\n",
       "    </tr>\n",
       "    <tr>\n",
       "      <th>233957</th>\n",
       "      <td>17.80799</td>\n",
       "      <td>16.08707</td>\n",
       "      <td>15.30307</td>\n",
       "      <td>14.95896</td>\n",
       "      <td>14.65137</td>\n",
       "      <td>0.018329</td>\n",
       "      <td>0.003191</td>\n",
       "      <td>0.002664</td>\n",
       "      <td>0.002670</td>\n",
       "      <td>0.004870</td>\n",
       "      <td>0.032818</td>\n",
       "      <td>0.000011</td>\n",
       "      <td>0.042720</td>\n",
       "      <td>0.012195</td>\n",
       "    </tr>\n",
       "    <tr>\n",
       "      <th>792307</th>\n",
       "      <td>19.92266</td>\n",
       "      <td>19.09681</td>\n",
       "      <td>18.82154</td>\n",
       "      <td>18.72380</td>\n",
       "      <td>18.59270</td>\n",
       "      <td>0.044487</td>\n",
       "      <td>0.011463</td>\n",
       "      <td>0.011225</td>\n",
       "      <td>0.013843</td>\n",
       "      <td>0.039312</td>\n",
       "      <td>0.024702</td>\n",
       "      <td>0.000006</td>\n",
       "      <td>0.060760</td>\n",
       "      <td>0.036649</td>\n",
       "    </tr>\n",
       "    <tr>\n",
       "      <th>153804</th>\n",
       "      <td>19.88092</td>\n",
       "      <td>18.08543</td>\n",
       "      <td>17.20749</td>\n",
       "      <td>16.81715</td>\n",
       "      <td>16.49590</td>\n",
       "      <td>0.070685</td>\n",
       "      <td>0.008134</td>\n",
       "      <td>0.006142</td>\n",
       "      <td>0.006062</td>\n",
       "      <td>0.012774</td>\n",
       "      <td>0.070807</td>\n",
       "      <td>0.000022</td>\n",
       "      <td>0.093245</td>\n",
       "      <td>0.012525</td>\n",
       "    </tr>\n",
       "    <tr>\n",
       "      <th>259840</th>\n",
       "      <td>19.02518</td>\n",
       "      <td>17.69330</td>\n",
       "      <td>16.95810</td>\n",
       "      <td>16.56490</td>\n",
       "      <td>16.34922</td>\n",
       "      <td>0.066261</td>\n",
       "      <td>0.009080</td>\n",
       "      <td>0.006872</td>\n",
       "      <td>0.007009</td>\n",
       "      <td>0.020276</td>\n",
       "      <td>0.140475</td>\n",
       "      <td>0.000009</td>\n",
       "      <td>0.135293</td>\n",
       "      <td>0.022122</td>\n",
       "    </tr>\n",
       "  </tbody>\n",
       "</table>\n",
       "</div>"
      ],
      "text/plain": [
       "               u         g         r         i         z     u_err     g_err  \\\n",
       "225621  20.70552  18.88517  17.67181  17.21974  16.87947  0.124928  0.012979   \n",
       "233957  17.80799  16.08707  15.30307  14.95896  14.65137  0.018329  0.003191   \n",
       "792307  19.92266  19.09681  18.82154  18.72380  18.59270  0.044487  0.011463   \n",
       "153804  19.88092  18.08543  17.20749  16.81715  16.49590  0.070685  0.008134   \n",
       "259840  19.02518  17.69330  16.95810  16.56490  16.34922  0.066261  0.009080   \n",
       "\n",
       "           r_err     i_err     z_err     specz  specz_err    photoz  \\\n",
       "225621  0.007144  0.006431  0.014508  0.195101   0.000031  0.188042   \n",
       "233957  0.002664  0.002670  0.004870  0.032818   0.000011  0.042720   \n",
       "792307  0.011225  0.013843  0.039312  0.024702   0.000006  0.060760   \n",
       "153804  0.006142  0.006062  0.012774  0.070807   0.000022  0.093245   \n",
       "259840  0.006872  0.007009  0.020276  0.140475   0.000009  0.135293   \n",
       "\n",
       "        photoz_err  \n",
       "225621    0.010568  \n",
       "233957    0.012195  \n",
       "792307    0.036649  \n",
       "153804    0.012525  \n",
       "259840    0.022122  "
      ]
     },
     "execution_count": 6,
     "metadata": {},
     "output_type": "execute_result"
    }
   ],
   "source": [
    "df_train.head()"
   ]
  },
  {
   "cell_type": "code",
   "execution_count": 7,
   "id": "0d76f3ca",
   "metadata": {},
   "outputs": [
    {
     "name": "stdout",
     "output_type": "stream",
     "text": [
      "(647424, 14)\n",
      "(161857, 14)\n"
     ]
    }
   ],
   "source": [
    "print(df_train.shape)\n",
    "print(df_test.shape)"
   ]
  },
  {
   "cell_type": "code",
   "execution_count": 8,
   "id": "091686f0",
   "metadata": {},
   "outputs": [
    {
     "data": {
      "text/plain": [
       "225621    0.195101\n",
       "233957    0.032818\n",
       "792307    0.024702\n",
       "153804    0.070807\n",
       "259840    0.140475\n",
       "            ...   \n",
       "192854    0.132536\n",
       "17761     0.086031\n",
       "28067     0.090844\n",
       "278875    0.132759\n",
       "777108    0.416502\n",
       "Name: specz, Length: 647424, dtype: float64"
      ]
     },
     "execution_count": 8,
     "metadata": {},
     "output_type": "execute_result"
    }
   ],
   "source": [
    "df_train['specz']"
   ]
  },
  {
   "attachments": {},
   "cell_type": "markdown",
   "id": "031e85cb",
   "metadata": {},
   "source": [
    "* Taking 5000 points from train and test for symbolic regression experiment"
   ]
  },
  {
   "cell_type": "code",
   "execution_count": 9,
   "id": "c7676015",
   "metadata": {},
   "outputs": [],
   "source": [
    "\n",
    "X_train = df_train.iloc[:,:5].to_numpy() #u,g,r,i,z\n",
    "y_train = df_train.iloc[:,10].to_numpy()  #specz\n",
    "\n",
    "X_test = df_test.iloc[:,:5].to_numpy()   #u,g,r,i,z\n",
    "y_test = df_test.iloc[:,10].to_numpy()    #specz\n",
    "# X_err = df_test.iloc[:,5:10].to_numpy()"
   ]
  },
  {
   "cell_type": "code",
   "execution_count": 10,
   "id": "b340da91",
   "metadata": {},
   "outputs": [
    {
     "data": {
      "text/plain": [
       "(647424, 5)"
      ]
     },
     "execution_count": 10,
     "metadata": {},
     "output_type": "execute_result"
    }
   ],
   "source": [
    "X_train.shape"
   ]
  },
  {
   "attachments": {},
   "cell_type": "markdown",
   "id": "7cb921f6",
   "metadata": {},
   "source": [
    "### 4. PySR SR model"
   ]
  },
  {
   "attachments": {},
   "cell_type": "markdown",
   "id": "86738c49",
   "metadata": {},
   "source": [
    "This will take approx 263.0 minutes to run for training"
   ]
  },
  {
   "cell_type": "code",
   "execution_count": 11,
   "id": "78331359",
   "metadata": {},
   "outputs": [
    {
     "name": "stderr",
     "output_type": "stream",
     "text": [
      "c:\\Users\\Sarvesh Purohit\\anaconda3\\lib\\site-packages\\pysr\\sr.py:883: FutureWarning: variable_names is a data dependant parameter so should be passed when fit is called. Ignoring parameter; please pass variable_names during the call to fit instead.\n",
      "  warnings.warn(\n"
     ]
    }
   ],
   "source": [
    "model = PySRRegressor(\n",
    "    populations = 100,\n",
    "    population_size = 50,\n",
    "    niterations = 5,\n",
    "    #batching = config['batching'],\n",
    "    #batch_size = config['batch_size'],\n",
    "    binary_operators = ['plus', 'mult'],\n",
    "    unary_operators = ['sub'],\n",
    "    extra_sympy_mappings = {'pow2': lambda x : x**2, 'pow3' : lambda x : x**3, 'pow4' : lambda x : x**4, 'pow5' : lambda x : x**5},\n",
    "    variable_names = ['u','g','r','i','z'],\n",
    "    model_selection = 'accuracy',\n",
    "    #weights = weights,\n",
    "    loss = 'L2DistLoss()',\n",
    "#     equation_file = os.path.join(config['outdir'], config['equation_file']) ,\n",
    "    progress = True\n",
    ")"
   ]
  },
  {
   "cell_type": "code",
   "execution_count": 13,
   "id": "4babd22b",
   "metadata": {},
   "outputs": [
    {
     "name": "stderr",
     "output_type": "stream",
     "text": [
      "c:\\Users\\Sarvesh Purohit\\anaconda3\\lib\\site-packages\\pysr\\sr.py:1762: UserWarning: The discovered expressions are being reset. Please set `warm_start=True` if you wish to continue to start a search where you left off.\n",
      "  warnings.warn(\n",
      "c:\\Users\\Sarvesh Purohit\\anaconda3\\lib\\site-packages\\pysr\\sr.py:1289: UserWarning: Note: it looks like you are running in Jupyter. The progress bar will be turned off.\n",
      "  warnings.warn(\n",
      "c:\\Users\\Sarvesh Purohit\\anaconda3\\lib\\site-packages\\pysr\\sr.py:1785: UserWarning: Note: you are running with more than 10,000 datapoints. You should consider turning on batching (https://astroautomata.com/PySR/options/#batching). You should also reconsider if you need that many datapoints. Unless you have a large amount of noise (in which case you should smooth your dataset first), generally < 10,000 datapoints is enough to find a functional form with symbolic regression. More datapoints will lower the search speed.\n",
      "  warnings.warn(\n"
     ]
    }
   ],
   "source": [
    "starttime = time.time()\n",
    "\n",
    "model.fit(X_train, y_train)\n",
    "\n",
    "endtime = time.time()\n",
    "\n",
    "print(f'Time take to fit model - {(endtime-starttime)//60} minutes') "
   ]
  },
  {
   "cell_type": "code",
   "execution_count": 14,
   "id": "2de8e17d",
   "metadata": {},
   "outputs": [
    {
     "name": "stdout",
     "output_type": "stream",
     "text": [
      "PySRRegressor.equations_ = [\n",
      "\t   pick         score                                           equation  \\\n",
      "\t0        0.000000e+00                                          0.1489886   \n",
      "\t1        6.269626e-02                                 (0.008550951 * x1)   \n",
      "\t2        4.351818e-01                   ((0.08519883 * x1) + -1.3999614)   \n",
      "\t3        9.057384e-02         (x2 * (-0.07410639 + (0.0045276736 * x1)))   \n",
      "\t4        1.419044e-01  ((x1 * (-0.55013555 + (0.017130435 * x1))) + 4...   \n",
      "\t5        6.096613e-08  ((x1 * (-0.56478 + ((0.01712588 * x1) + 0.0148...   \n",
      "\t6  >>>>  6.150999e-03  ((x1 * (-0.5488932 + ((0.01799402 * x1) + (-0....   \n",
      "\t\n",
      "\t       loss  complexity  \n",
      "\t0  0.017670           1  \n",
      "\t1  0.015587           3  \n",
      "\t2  0.006528           5  \n",
      "\t3  0.005446           7  \n",
      "\t4  0.004101           9  \n",
      "\t5  0.004101          11  \n",
      "\t6  0.004051          13  \n",
      "]\n"
     ]
    }
   ],
   "source": [
    "print(model)"
   ]
  },
  {
   "cell_type": "code",
   "execution_count": 19,
   "id": "aa52521d",
   "metadata": {},
   "outputs": [
    {
     "name": "stderr",
     "output_type": "stream",
     "text": [
      "c:\\Users\\Sarvesh Purohit\\anaconda3\\lib\\site-packages\\pysr\\sr.py:1128: FutureWarning: PySRRegressor.equations is now deprecated. Please use PySRRegressor.equations_ instead.\n",
      "  warnings.warn(\n"
     ]
    }
   ],
   "source": [
    "model.equations.to_csv('eq.csv', index=False)"
   ]
  },
  {
   "cell_type": "code",
   "execution_count": 20,
   "id": "74801af2",
   "metadata": {},
   "outputs": [
    {
     "name": "stdout",
     "output_type": "stream",
     "text": [
      "Best equation : x1*(0.01799402*x1 - 0.0010030421*x3 - 0.5488932) + 4.46244\n",
      "\n"
     ]
    }
   ],
   "source": [
    "n_equations = model.equations.shape[0]\n",
    "\n",
    "print(f'Best equation : {model.sympy()}\\n')"
   ]
  },
  {
   "cell_type": "code",
   "execution_count": 23,
   "id": "23a8f23c",
   "metadata": {},
   "outputs": [
    {
     "ename": "SyntaxError",
     "evalue": "unmatched ')' (1486760102.py, line 36)",
     "output_type": "error",
     "traceback": [
      "\u001b[1;36m  File \u001b[1;32m\"C:\\Users\\Sarvesh Purohit\\AppData\\Local\\Temp\\ipykernel_8020\\1486760102.py\"\u001b[1;36m, line \u001b[1;32m36\u001b[0m\n\u001b[1;33m    plt.savefig('density_plot.png'))\u001b[0m\n\u001b[1;37m                                   ^\u001b[0m\n\u001b[1;31mSyntaxError\u001b[0m\u001b[1;31m:\u001b[0m unmatched ')'\n"
     ]
    }
   ],
   "source": [
    "for k in range(n_equations):\n",
    "\n",
    "    equation_sympy =  model.equations['sympy_format'][k]\n",
    "    print(f'==========================================\\n')\n",
    "    print(f'Equation {str(k)} : {equation_sympy}')\n",
    "    print(f'==========================================\\n')\n",
    "    \n",
    "\n",
    "    y = y_test\n",
    "    y_predict = model.equations['lambda_format'][k](X_test)\n",
    "\n",
    "    def heatmap_predictions() :\n",
    "        \n",
    "        H,xedges, yedges = np.histogram2d(y,y_predict, bins=50)\n",
    "        level = np.linspace(0,np.round(2*np.max(np.log(np.transpose(H+1))))/2.0,20)\n",
    "        xe = np.zeros(len(xedges)-1)\n",
    "        ye = np.zeros(len(yedges)-1)\n",
    "        for i in range(len(xedges)-1):\n",
    "            xe[i] = 0.5*(xedges[i+1]+xedges[i])\n",
    "            ye[i] = 0.5*(yedges[i+1]+yedges[i])\n",
    "        fig, ax = plt.subplots()\n",
    "        ax.set_facecolor(color='black')\n",
    "        plt.contourf(xe,ye,np.log(np.transpose(H+1)),levels=level,cmap='hot')\n",
    "        plt.plot([min(y),max(y)],[min(y),max(y)],'-',color='grey',alpha=0.9, linewidth=1.5)\n",
    "        plt.xlabel(r'$z_{spec}$')\n",
    "        plt.ylabel(r'$z_{phot}$')\n",
    "        plt.ylim(min(y), max(y))\n",
    "        plt.xlim(min(y), max(y))\n",
    "        plt.title('Logarithmic density of true vs predicted redshifts of ~3000 galaxies in test set')\n",
    "\n",
    "        cbar = plt.colorbar()\n",
    "        cbar.set_label('$log(density)$',fontsize=20)\n",
    "        cbar.ax.tick_params(labelsize=20)\n",
    "        cbar.solids.set_edgecolor(\"face\")\n",
    "\n",
    "        plt.savefig('density_plot.png'))\n",
    "        #plt.show()\n",
    "        plt.close()\n",
    "\n",
    "    heatmap_predictions()\n",
    "\n",
    "    print('Metric a')\n",
    "    outliers=y_predict[abs(y-y_predict)>0.1]\n",
    "    print(f'Catastrophic Outliers: {outliers.shape[0]*100.0/y.shape[0]} %')\n",
    "    \n",
    "    print(f'Total rms: {np.sqrt(np.mean((y-y_predict)**2))}')\n",
    "    \n",
    "    print(f'rms w/o outliers {np.sqrt(np.mean(((y-y_predict)[abs(y-y_predict)<0.1])**2))}')\n",
    "    \n",
    "    print(f'Bias: {np.mean(y-y_predict)}')\n",
    "    \n",
    "       \n",
    "    def plot_z_photo_vs_z_spec ():\n",
    "\n",
    "        # plot of predictions vs truth\n",
    "        plt.figure() \n",
    "        plt.plot(y, y_predict, '.')\n",
    "        plt.plot([min(y),max(y)],[min(y),max(y)],'-',color='grey',alpha=0.9, linewidth=1.5)\n",
    "        plt.xlabel(r'$z_{spec}$')\n",
    "        #plt.tick_params(axis='both', which='major', labelsize=20)\n",
    "        plt.ylabel(r'$z_{phot}$')\n",
    "        plt.ylim((min(y),max(y)))\n",
    "        plt.xlim((min(y),max(y)))\n",
    "        plt.title('Photometric redshift prediction for test set')\n",
    "        plt.savefig('predictions.png')\n",
    "        #plt.show()\n",
    "        plt.close()\n",
    "\n",
    "    plot_z_photo_vs_z_spec()\n",
    "\n",
    "    def calculate_errors(expr) :\n",
    "        # source : https://github.com/HDembinski/essays/blob/master/error_propagation_with_sympy.ipynb\n",
    "\n",
    "        expr = sympy.parse_expr(expr)\n",
    "\n",
    "        symbols = sympy.symbols('u g r i z')\n",
    "        err_symbols = sympy.symbols('err_u err_g err_r err_i err_z')\n",
    "\n",
    "        expr2 = sum(expr.diff(s) ** 2 * c**2 for s, c in zip(symbols, err_symbols))\n",
    "        expr2 = expr2.simplify() # recommended for speed and accuracy\n",
    "\n",
    "        #fval = sympy.lambdify(symbols, expr)\n",
    "        fcov = sympy.lambdify(symbols + err_symbols, expr2, 'numpy')\n",
    "\n",
    "        def fn(variables, errs):\n",
    "            return np.sqrt(fcov(*variables, *errs)) #fval(*x), fcov(*x, *c)\n",
    "\n",
    "        return fn\n",
    "\n",
    "    err = calculate_errors(model.equations['equation'][k])(np.transpose(X_test), np.transpose(X_err))\n",
    "\n",
    "    def plot_predictions_with_errors() :\n",
    "\n",
    "        # plot of predictions with error for 300 subsamples of galaxies\n",
    "        rng = np.random.default_rng(12345)\n",
    "        def stratified_sample() :\n",
    "            interval_size = 0.1\n",
    "            sample_size = int(300 / (max(y) / interval_size))\n",
    "            l = np.arange(0, max(y), 0.1)\n",
    "            idx = np.empty(0, dtype='int') \n",
    "            for i in l :\n",
    "                cur_idx = ((y >= i) & (y < i+interval_size)).nonzero()[0]\n",
    "                if len(cur_idx) > sample_size :\n",
    "                    cur_idx = rng.choice(cur_idx, sample_size)\n",
    "\n",
    "                idx = np.concatenate([idx, cur_idx])\n",
    "            return idx\n",
    "\n",
    "        #idx = rng.choice(range(len(y)), 300)\n",
    "        idx = stratified_sample()\n",
    "\n",
    "        plt.figure() \n",
    "        plt.errorbar(y[idx], y_predict[idx], yerr=err[idx], fmt='.', linewidth=1, color='blue', capsize=5)\n",
    "        plt.plot([min(y),max(y)],[min(y),max(y)],'-',color='r')\n",
    "        plt.xlabel(r'$z_{spec}$')\n",
    "        #plt.tick_params(axis='both', which='major', labelsize=20)\n",
    "        plt.ylabel(r'$z_{phot}$')\n",
    "        plt.ylim(min(y[idx])-0.05, max(y[idx])+0.05)\n",
    "        plt.xlim(min(y[idx]), max(y[idx]))\n",
    "        plt.title('Photometric redshift prediction and errorbars for subsample of 300 galaxies')\n",
    "        plt.savefig('predictions_with_error.png')\n",
    "        #plt.show()\n",
    "        #plt.draw()\n",
    "        #plt.pause(0.001)\n",
    "        plt.close()\n",
    "    \n",
    "    if len(err.shape) > 0:\n",
    "        plot_predictions_with_errors()\n",
    "\n",
    "    print(f'==========================================\\n')"
   ]
  },
  {
   "attachments": {},
   "cell_type": "markdown",
   "id": "6da4a9a4",
   "metadata": {},
   "source": [
    "### 5.prediction on test dataset"
   ]
  },
  {
   "cell_type": "code",
   "execution_count": 15,
   "id": "37d01ed5",
   "metadata": {},
   "outputs": [],
   "source": [
    "Y_pred=model.predict(X_test)"
   ]
  },
  {
   "cell_type": "code",
   "execution_count": 16,
   "id": "57679299",
   "metadata": {},
   "outputs": [
    {
     "data": {
      "text/plain": [
       "0.06344907514400835"
      ]
     },
     "execution_count": 16,
     "metadata": {},
     "output_type": "execute_result"
    }
   ],
   "source": [
    "mean_squared_error(y_test, Y_pred, squared=False)"
   ]
  },
  {
   "cell_type": "code",
   "execution_count": 17,
   "id": "353b44ab",
   "metadata": {},
   "outputs": [
    {
     "name": "stderr",
     "output_type": "stream",
     "text": [
      "c:\\Users\\Sarvesh Purohit\\anaconda3\\lib\\site-packages\\pysr\\sr.py:1128: FutureWarning: PySRRegressor.equations is now deprecated. Please use PySRRegressor.equations_ instead.\n",
      "  warnings.warn(\n"
     ]
    }
   ],
   "source": [
    "model.equations.to_csv('eq', index=False)"
   ]
  },
  {
   "cell_type": "code",
   "execution_count": 18,
   "id": "369f7ea1",
   "metadata": {},
   "outputs": [
    {
     "name": "stdout",
     "output_type": "stream",
     "text": [
      "Best equation : x1*(0.01799402*x1 - 0.0010030421*x3 - 0.5488932) + 4.46244\n",
      "\n"
     ]
    }
   ],
   "source": [
    "print(f'Best equation : {model.sympy()}\\n')"
   ]
  },
  {
   "cell_type": "code",
   "execution_count": 28,
   "id": "bcc64ad2",
   "metadata": {},
   "outputs": [
    {
     "data": {
      "image/png": "[encoded data removed]",
      "text/plain": [
       "<Figure size 640x480 with 1 Axes>"
      ]
     },
     "metadata": {},
     "output_type": "display_data"
    }
   ],
   "source": [
    "plt.figure() \n",
    "plt.plot(y_test, Y_pred, '.')\n",
    "plt.plot([min(y_test),max(y_test)],[min(y_test),max(y_test)],'-',color='grey',alpha=0.9, linewidth=1.5)\n",
    "plt.ylabel(r'$z_{photo}$')\n",
    "plt.xlabel(r'$z_{spec}$')\n",
    "plt.ylim((min(y_test),max(y_test)))\n",
    "plt.xlim((min(y_test),max(y_test)))\n",
    "plt.savefig('z_spec vs z_photo')\n",
    "plt.show()"
   ]
  },
  {
   "cell_type": "code",
   "execution_count": null,
   "id": "875b24bb",
   "metadata": {},
   "outputs": [],
   "source": [
    "def calculate_errors(expr) :\n",
    "        # source : https://github.com/HDembinski/essays/blob/master/error_propagation_with_sympy.ipynb\n",
    "\n",
    "        expr = sympy.parse_expr(expr)\n",
    "\n",
    "        symbols = sympy.symbols('u g r i z')\n",
    "        err_symbols = sympy.symbols('err_u err_g err_r err_i err_z')\n",
    "\n",
    "        expr2 = sum(expr.diff(s) ** 2 * c**2 for s, c in zip(symbols, err_symbols))\n",
    "        expr2 = expr2.simplify() # recommended for speed and accuracy\n",
    "\n",
    "        #fval = sympy.lambdify(symbols, expr)\n",
    "        fcov = sympy.lambdify(symbols + err_symbols, expr2, 'numpy')\n",
    "\n",
    "        def fn(variables, errs):\n",
    "            return np.sqrt(fcov(*variables, *errs)) #fval(*x), fcov(*x, *c)\n",
    "\n",
    "        return fn"
   ]
  },
  {
   "attachments": {},
   "cell_type": "markdown",
   "id": "83b0dcee",
   "metadata": {},
   "source": [
    "### 6. Using GpLearn"
   ]
  },
  {
   "cell_type": "code",
   "execution_count": 40,
   "id": "ef034df3",
   "metadata": {},
   "outputs": [],
   "source": [
    "# function_set = ['add', 'sub', 'mul']\n",
    "\n",
    "# est_gp = SymbolicRegressor(population_size=5000, function_set=function_set,#the number of programs in each generation\n",
    "#                            generations=30, stopping_criteria=0.07, #The required metric value required in order to stop evolution early.\n",
    "#                            p_crossover=0.7, p_subtree_mutation=0.1,\n",
    "#                            p_hoist_mutation=0.05, #0.05, The probability of performing hoist mutation on a tournament winner. Hoist mutation takes the winner of a tournament and selects a random subtree from it. A random subtree of that subtree is then selected and this is ‘hoisted’ into the original subtrees location to form an offspring in the next generation. This method helps to control bloat.\n",
    "#                            p_point_mutation=0.1,\n",
    "#                            max_samples=0.9, verbose=1,\n",
    "#                            parsimony_coefficient=0.01, random_state=0,feature_names=df_train.columns[:5])"
   ]
  },
  {
   "cell_type": "code",
   "execution_count": 41,
   "id": "91891844",
   "metadata": {},
   "outputs": [
    {
     "name": "stdout",
     "output_type": "stream",
     "text": [
      "    |   Population Average    |             Best Individual              |\n",
      "---- ------------------------- ------------------------------------------ ----------\n",
      " Gen   Length          Fitness   Length          Fitness      OOB Fitness  Time Left\n",
      "   0    28.58      2.50467e+22        7        0.0853992         0.089598      5.56m\n",
      "   1     7.57      2.96723e+22        5        0.0663772        0.0684074      3.16m\n"
     ]
    }
   ],
   "source": [
    "# starttime = time.time()\n",
    "\n",
    "# est_gp.fit(X_train, y_train)\n",
    "\n",
    "# endtime = time.time()"
   ]
  }
 ],
 "metadata": {
  "kernelspec": {
   "display_name": "Python 3 (ipykernel)",
   "language": "python",
   "name": "python3"
  },
  "language_info": {
   "codemirror_mode": {
    "name": "ipython",
    "version": 3
   },
   "file_extension": ".py",
   "mimetype": "text/x-python",
   "name": "python",
   "nbconvert_exporter": "python",
   "pygments_lexer": "ipython3",
   "version": "3.9.13"
  }
 },
 "nbformat": 4,
 "nbformat_minor": 5
}
